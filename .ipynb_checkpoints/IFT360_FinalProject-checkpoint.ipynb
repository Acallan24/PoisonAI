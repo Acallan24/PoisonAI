{
 "cells": [
  {
   "cell_type": "markdown",
   "id": "5c326175",
   "metadata": {},
   "source": [
    "# IFT360 Final Project\n",
    "## Name: Rahul Kashyap\n",
    "## Topic: Computer Vision\n",
    "### Refrence Article for Code: https://data-flair.training/blogs/cats-dogs-classification-deep-learning-project-beginners/"
   ]
  },
  {
   "cell_type": "code",
   "execution_count": 1,
   "id": "2240247d",
   "metadata": {},
   "outputs": [],
   "source": [
    "#Installing bing pakages \n",
    "# !pip install bing-image-downloader\n",
    "#!pip install google_images_download"
   ]
  },
  {
   "cell_type": "code",
   "execution_count": 2,
   "id": "e1b21b75",
   "metadata": {},
   "outputs": [],
   "source": [
    "# #importing the bing pakages\n",
    "# from bing_image_downloader import downloader\n",
    "# from google_images_download import google_images_download"
   ]
  },
  {
   "cell_type": "code",
   "execution_count": 3,
   "id": "9eff5f75",
   "metadata": {},
   "outputs": [],
   "source": [
    "# # #Download Plant Images \n",
    "# # #Donwloading Water Hemlock Images\n",
    "# #downloader.download('Aconitum', limit=100, output_dir='Aconitum', adult_filter_off=True, force_replace=False, timeout=60 )\n",
    "# response = google_images_download.googleimagesdownload()\n",
    "# arguments = {\"keywords\": \"White Daffodils, Aconitum \", \"limit\": 10, \"print_urls\": False}\n",
    "# paths = response.download(arguments)\n",
    "# print(paths)"
   ]
  },
  {
   "cell_type": "code",
   "execution_count": 4,
   "id": "91c4061e",
   "metadata": {},
   "outputs": [],
   "source": [
    "# # Donwloading White Daffodils\n",
    "#downloader.download('White Daffodils', limit=100, output_dir='White Daffodils', adult_filter_off=True, force_replace=False, timeout=60 )"
   ]
  },
  {
   "cell_type": "markdown",
   "id": "4f9b3628",
   "metadata": {},
   "source": [
    "### For the renaming and the organizing part I used a external sofware. I merged the images from all the files and strored it in one called 'train'"
   ]
  },
  {
   "cell_type": "code",
   "execution_count": 5,
   "id": "5cac9c2a",
   "metadata": {},
   "outputs": [
    {
     "name": "stdout",
     "output_type": "stream",
     "text": [
      "Requirement already satisfied: tensorflow==2.4.0 in c:\\users\\rahul\\anaconda3\\lib\\site-packages (2.4.0)\n",
      "Requirement already satisfied: grpcio~=1.32.0 in c:\\users\\rahul\\anaconda3\\lib\\site-packages (from tensorflow==2.4.0) (1.32.0)\n",
      "Requirement already satisfied: protobuf>=3.9.2 in c:\\users\\rahul\\anaconda3\\lib\\site-packages (from tensorflow==2.4.0) (3.19.1)\n",
      "Requirement already satisfied: termcolor~=1.1.0 in c:\\users\\rahul\\anaconda3\\lib\\site-packages (from tensorflow==2.4.0) (1.1.0)\n",
      "Requirement already satisfied: google-pasta~=0.2 in c:\\users\\rahul\\anaconda3\\lib\\site-packages (from tensorflow==2.4.0) (0.2.0)\n",
      "Requirement already satisfied: wheel~=0.35 in c:\\users\\rahul\\anaconda3\\lib\\site-packages (from tensorflow==2.4.0) (0.36.2)\n",
      "Requirement already satisfied: absl-py~=0.10 in c:\\users\\rahul\\anaconda3\\lib\\site-packages (from tensorflow==2.4.0) (0.15.0)\n",
      "Requirement already satisfied: flatbuffers~=1.12.0 in c:\\users\\rahul\\anaconda3\\lib\\site-packages (from tensorflow==2.4.0) (1.12)\n",
      "Requirement already satisfied: numpy~=1.19.2 in c:\\users\\rahul\\anaconda3\\lib\\site-packages (from tensorflow==2.4.0) (1.19.5)\n",
      "Requirement already satisfied: typing-extensions~=3.7.4 in c:\\users\\rahul\\anaconda3\\lib\\site-packages (from tensorflow==2.4.0) (3.7.4.3)\n",
      "Requirement already satisfied: tensorboard~=2.4 in c:\\users\\rahul\\anaconda3\\lib\\site-packages (from tensorflow==2.4.0) (2.7.0)\n",
      "Requirement already satisfied: gast==0.3.3 in c:\\users\\rahul\\anaconda3\\lib\\site-packages (from tensorflow==2.4.0) (0.3.3)\n",
      "Requirement already satisfied: astunparse~=1.6.3 in c:\\users\\rahul\\anaconda3\\lib\\site-packages (from tensorflow==2.4.0) (1.6.3)\n",
      "Requirement already satisfied: wrapt~=1.12.1 in c:\\users\\rahul\\anaconda3\\lib\\site-packages (from tensorflow==2.4.0) (1.12.1)\n",
      "Requirement already satisfied: six~=1.15.0 in c:\\users\\rahul\\anaconda3\\lib\\site-packages (from tensorflow==2.4.0) (1.15.0)\n",
      "Requirement already satisfied: tensorflow-estimator<2.5.0,>=2.4.0rc0 in c:\\users\\rahul\\anaconda3\\lib\\site-packages (from tensorflow==2.4.0) (2.4.0)\n",
      "Requirement already satisfied: h5py~=2.10.0 in c:\\users\\rahul\\anaconda3\\lib\\site-packages (from tensorflow==2.4.0) (2.10.0)\n",
      "Requirement already satisfied: opt-einsum~=3.3.0 in c:\\users\\rahul\\anaconda3\\lib\\site-packages (from tensorflow==2.4.0) (3.3.0)\n",
      "Requirement already satisfied: keras-preprocessing~=1.1.2 in c:\\users\\rahul\\anaconda3\\lib\\site-packages (from tensorflow==2.4.0) (1.1.2)\n",
      "Requirement already satisfied: google-auth-oauthlib<0.5,>=0.4.1 in c:\\users\\rahul\\anaconda3\\lib\\site-packages (from tensorboard~=2.4->tensorflow==2.4.0) (0.4.6)\n",
      "Requirement already satisfied: werkzeug>=0.11.15 in c:\\users\\rahul\\anaconda3\\lib\\site-packages (from tensorboard~=2.4->tensorflow==2.4.0) (1.0.1)\n",
      "Requirement already satisfied: requests<3,>=2.21.0 in c:\\users\\rahul\\anaconda3\\lib\\site-packages (from tensorboard~=2.4->tensorflow==2.4.0) (2.25.1)\n",
      "Requirement already satisfied: google-auth<3,>=1.6.3 in c:\\users\\rahul\\anaconda3\\lib\\site-packages (from tensorboard~=2.4->tensorflow==2.4.0) (2.3.3)\n",
      "Requirement already satisfied: markdown>=2.6.8 in c:\\users\\rahul\\anaconda3\\lib\\site-packages (from tensorboard~=2.4->tensorflow==2.4.0) (3.3.6)\n",
      "Requirement already satisfied: setuptools>=41.0.0 in c:\\users\\rahul\\anaconda3\\lib\\site-packages (from tensorboard~=2.4->tensorflow==2.4.0) (52.0.0.post20210125)\n",
      "Requirement already satisfied: tensorboard-data-server<0.7.0,>=0.6.0 in c:\\users\\rahul\\anaconda3\\lib\\site-packages (from tensorboard~=2.4->tensorflow==2.4.0) (0.6.1)\n",
      "Requirement already satisfied: tensorboard-plugin-wit>=1.6.0 in c:\\users\\rahul\\anaconda3\\lib\\site-packages (from tensorboard~=2.4->tensorflow==2.4.0) (1.8.0)\n",
      "Requirement already satisfied: cachetools<5.0,>=2.0.0 in c:\\users\\rahul\\anaconda3\\lib\\site-packages (from google-auth<3,>=1.6.3->tensorboard~=2.4->tensorflow==2.4.0) (4.2.4)\n",
      "Requirement already satisfied: pyasn1-modules>=0.2.1 in c:\\users\\rahul\\anaconda3\\lib\\site-packages (from google-auth<3,>=1.6.3->tensorboard~=2.4->tensorflow==2.4.0) (0.2.8)\n",
      "Requirement already satisfied: rsa<5,>=3.1.4 in c:\\users\\rahul\\anaconda3\\lib\\site-packages (from google-auth<3,>=1.6.3->tensorboard~=2.4->tensorflow==2.4.0) (4.8)\n",
      "Requirement already satisfied: requests-oauthlib>=0.7.0 in c:\\users\\rahul\\anaconda3\\lib\\site-packages (from google-auth-oauthlib<0.5,>=0.4.1->tensorboard~=2.4->tensorflow==2.4.0) (1.3.0)\n",
      "Requirement already satisfied: importlib-metadata>=4.4 in c:\\users\\rahul\\anaconda3\\lib\\site-packages (from markdown>=2.6.8->tensorboard~=2.4->tensorflow==2.4.0) (4.8.2)\n",
      "Requirement already satisfied: zipp>=0.5 in c:\\users\\rahul\\anaconda3\\lib\\site-packages (from importlib-metadata>=4.4->markdown>=2.6.8->tensorboard~=2.4->tensorflow==2.4.0) (3.4.1)\n",
      "Requirement already satisfied: pyasn1<0.5.0,>=0.4.6 in c:\\users\\rahul\\anaconda3\\lib\\site-packages (from pyasn1-modules>=0.2.1->google-auth<3,>=1.6.3->tensorboard~=2.4->tensorflow==2.4.0) (0.4.8)\n",
      "Requirement already satisfied: chardet<5,>=3.0.2 in c:\\users\\rahul\\anaconda3\\lib\\site-packages (from requests<3,>=2.21.0->tensorboard~=2.4->tensorflow==2.4.0) (4.0.0)\n",
      "Requirement already satisfied: idna<3,>=2.5 in c:\\users\\rahul\\anaconda3\\lib\\site-packages (from requests<3,>=2.21.0->tensorboard~=2.4->tensorflow==2.4.0) (2.10)\n",
      "Requirement already satisfied: certifi>=2017.4.17 in c:\\users\\rahul\\anaconda3\\lib\\site-packages (from requests<3,>=2.21.0->tensorboard~=2.4->tensorflow==2.4.0) (2020.12.5)\n",
      "Requirement already satisfied: urllib3<1.27,>=1.21.1 in c:\\users\\rahul\\anaconda3\\lib\\site-packages (from requests<3,>=2.21.0->tensorboard~=2.4->tensorflow==2.4.0) (1.26.4)\n",
      "Requirement already satisfied: oauthlib>=3.0.0 in c:\\users\\rahul\\anaconda3\\lib\\site-packages (from requests-oauthlib>=0.7.0->google-auth-oauthlib<0.5,>=0.4.1->tensorboard~=2.4->tensorflow==2.4.0) (3.1.1)\n",
      "Requirement already satisfied: keras==2.4.0 in c:\\users\\rahul\\anaconda3\\lib\\site-packages (2.4.0)\n",
      "Requirement already satisfied: h5py in c:\\users\\rahul\\anaconda3\\lib\\site-packages (from keras==2.4.0) (2.10.0)\n",
      "Requirement already satisfied: pyyaml in c:\\users\\rahul\\anaconda3\\lib\\site-packages (from keras==2.4.0) (5.4.1)\n",
      "Requirement already satisfied: tensorflow>=2.2.0 in c:\\users\\rahul\\anaconda3\\lib\\site-packages (from keras==2.4.0) (2.4.0)\n",
      "Requirement already satisfied: scipy>=0.14 in c:\\users\\rahul\\anaconda3\\lib\\site-packages (from keras==2.4.0) (1.6.2)\n",
      "Requirement already satisfied: numpy>=1.9.1 in c:\\users\\rahul\\anaconda3\\lib\\site-packages (from keras==2.4.0) (1.19.5)\n",
      "Requirement already satisfied: termcolor~=1.1.0 in c:\\users\\rahul\\anaconda3\\lib\\site-packages (from tensorflow>=2.2.0->keras==2.4.0) (1.1.0)\n",
      "Requirement already satisfied: keras-preprocessing~=1.1.2 in c:\\users\\rahul\\anaconda3\\lib\\site-packages (from tensorflow>=2.2.0->keras==2.4.0) (1.1.2)\n",
      "Requirement already satisfied: google-pasta~=0.2 in c:\\users\\rahul\\anaconda3\\lib\\site-packages (from tensorflow>=2.2.0->keras==2.4.0) (0.2.0)\n",
      "Requirement already satisfied: wheel~=0.35 in c:\\users\\rahul\\anaconda3\\lib\\site-packages (from tensorflow>=2.2.0->keras==2.4.0) (0.36.2)\n",
      "Requirement already satisfied: astunparse~=1.6.3 in c:\\users\\rahul\\anaconda3\\lib\\site-packages (from tensorflow>=2.2.0->keras==2.4.0) (1.6.3)\n",
      "Requirement already satisfied: flatbuffers~=1.12.0 in c:\\users\\rahul\\anaconda3\\lib\\site-packages (from tensorflow>=2.2.0->keras==2.4.0) (1.12)\n",
      "Requirement already satisfied: opt-einsum~=3.3.0 in c:\\users\\rahul\\anaconda3\\lib\\site-packages (from tensorflow>=2.2.0->keras==2.4.0) (3.3.0)\n",
      "Requirement already satisfied: six~=1.15.0 in c:\\users\\rahul\\anaconda3\\lib\\site-packages (from tensorflow>=2.2.0->keras==2.4.0) (1.15.0)\n",
      "Requirement already satisfied: gast==0.3.3 in c:\\users\\rahul\\anaconda3\\lib\\site-packages (from tensorflow>=2.2.0->keras==2.4.0) (0.3.3)\n",
      "Requirement already satisfied: tensorboard~=2.4 in c:\\users\\rahul\\anaconda3\\lib\\site-packages (from tensorflow>=2.2.0->keras==2.4.0) (2.7.0)\n",
      "Requirement already satisfied: absl-py~=0.10 in c:\\users\\rahul\\anaconda3\\lib\\site-packages (from tensorflow>=2.2.0->keras==2.4.0) (0.15.0)\n",
      "Requirement already satisfied: protobuf>=3.9.2 in c:\\users\\rahul\\anaconda3\\lib\\site-packages (from tensorflow>=2.2.0->keras==2.4.0) (3.19.1)\n",
      "Requirement already satisfied: wrapt~=1.12.1 in c:\\users\\rahul\\anaconda3\\lib\\site-packages (from tensorflow>=2.2.0->keras==2.4.0) (1.12.1)\n",
      "Requirement already satisfied: grpcio~=1.32.0 in c:\\users\\rahul\\anaconda3\\lib\\site-packages (from tensorflow>=2.2.0->keras==2.4.0) (1.32.0)\n",
      "Requirement already satisfied: typing-extensions~=3.7.4 in c:\\users\\rahul\\anaconda3\\lib\\site-packages (from tensorflow>=2.2.0->keras==2.4.0) (3.7.4.3)\n",
      "Requirement already satisfied: tensorflow-estimator<2.5.0,>=2.4.0rc0 in c:\\users\\rahul\\anaconda3\\lib\\site-packages (from tensorflow>=2.2.0->keras==2.4.0) (2.4.0)\n",
      "Requirement already satisfied: tensorboard-data-server<0.7.0,>=0.6.0 in c:\\users\\rahul\\anaconda3\\lib\\site-packages (from tensorboard~=2.4->tensorflow>=2.2.0->keras==2.4.0) (0.6.1)\n",
      "Requirement already satisfied: google-auth<3,>=1.6.3 in c:\\users\\rahul\\anaconda3\\lib\\site-packages (from tensorboard~=2.4->tensorflow>=2.2.0->keras==2.4.0) (2.3.3)\n",
      "Requirement already satisfied: markdown>=2.6.8 in c:\\users\\rahul\\anaconda3\\lib\\site-packages (from tensorboard~=2.4->tensorflow>=2.2.0->keras==2.4.0) (3.3.6)\n",
      "Requirement already satisfied: tensorboard-plugin-wit>=1.6.0 in c:\\users\\rahul\\anaconda3\\lib\\site-packages (from tensorboard~=2.4->tensorflow>=2.2.0->keras==2.4.0) (1.8.0)\n",
      "Requirement already satisfied: requests<3,>=2.21.0 in c:\\users\\rahul\\anaconda3\\lib\\site-packages (from tensorboard~=2.4->tensorflow>=2.2.0->keras==2.4.0) (2.25.1)\n",
      "Requirement already satisfied: setuptools>=41.0.0 in c:\\users\\rahul\\anaconda3\\lib\\site-packages (from tensorboard~=2.4->tensorflow>=2.2.0->keras==2.4.0) (52.0.0.post20210125)\n",
      "Requirement already satisfied: google-auth-oauthlib<0.5,>=0.4.1 in c:\\users\\rahul\\anaconda3\\lib\\site-packages (from tensorboard~=2.4->tensorflow>=2.2.0->keras==2.4.0) (0.4.6)\n",
      "Requirement already satisfied: werkzeug>=0.11.15 in c:\\users\\rahul\\anaconda3\\lib\\site-packages (from tensorboard~=2.4->tensorflow>=2.2.0->keras==2.4.0) (1.0.1)\n",
      "Requirement already satisfied: rsa<5,>=3.1.4 in c:\\users\\rahul\\anaconda3\\lib\\site-packages (from google-auth<3,>=1.6.3->tensorboard~=2.4->tensorflow>=2.2.0->keras==2.4.0) (4.8)\n",
      "Requirement already satisfied: cachetools<5.0,>=2.0.0 in c:\\users\\rahul\\anaconda3\\lib\\site-packages (from google-auth<3,>=1.6.3->tensorboard~=2.4->tensorflow>=2.2.0->keras==2.4.0) (4.2.4)\n",
      "Requirement already satisfied: pyasn1-modules>=0.2.1 in c:\\users\\rahul\\anaconda3\\lib\\site-packages (from google-auth<3,>=1.6.3->tensorboard~=2.4->tensorflow>=2.2.0->keras==2.4.0) (0.2.8)\n",
      "Requirement already satisfied: requests-oauthlib>=0.7.0 in c:\\users\\rahul\\anaconda3\\lib\\site-packages (from google-auth-oauthlib<0.5,>=0.4.1->tensorboard~=2.4->tensorflow>=2.2.0->keras==2.4.0) (1.3.0)\n",
      "Requirement already satisfied: importlib-metadata>=4.4 in c:\\users\\rahul\\anaconda3\\lib\\site-packages (from markdown>=2.6.8->tensorboard~=2.4->tensorflow>=2.2.0->keras==2.4.0) (4.8.2)\n",
      "Requirement already satisfied: zipp>=0.5 in c:\\users\\rahul\\anaconda3\\lib\\site-packages (from importlib-metadata>=4.4->markdown>=2.6.8->tensorboard~=2.4->tensorflow>=2.2.0->keras==2.4.0) (3.4.1)\n",
      "Requirement already satisfied: pyasn1<0.5.0,>=0.4.6 in c:\\users\\rahul\\anaconda3\\lib\\site-packages (from pyasn1-modules>=0.2.1->google-auth<3,>=1.6.3->tensorboard~=2.4->tensorflow>=2.2.0->keras==2.4.0) (0.4.8)\n",
      "Requirement already satisfied: certifi>=2017.4.17 in c:\\users\\rahul\\anaconda3\\lib\\site-packages (from requests<3,>=2.21.0->tensorboard~=2.4->tensorflow>=2.2.0->keras==2.4.0) (2020.12.5)\n",
      "Requirement already satisfied: idna<3,>=2.5 in c:\\users\\rahul\\anaconda3\\lib\\site-packages (from requests<3,>=2.21.0->tensorboard~=2.4->tensorflow>=2.2.0->keras==2.4.0) (2.10)\n",
      "Requirement already satisfied: urllib3<1.27,>=1.21.1 in c:\\users\\rahul\\anaconda3\\lib\\site-packages (from requests<3,>=2.21.0->tensorboard~=2.4->tensorflow>=2.2.0->keras==2.4.0) (1.26.4)\n",
      "Requirement already satisfied: chardet<5,>=3.0.2 in c:\\users\\rahul\\anaconda3\\lib\\site-packages (from requests<3,>=2.21.0->tensorboard~=2.4->tensorflow>=2.2.0->keras==2.4.0) (4.0.0)\n",
      "Requirement already satisfied: oauthlib>=3.0.0 in c:\\users\\rahul\\anaconda3\\lib\\site-packages (from requests-oauthlib>=0.7.0->google-auth-oauthlib<0.5,>=0.4.1->tensorboard~=2.4->tensorflow>=2.2.0->keras==2.4.0) (3.1.1)\n"
     ]
    }
   ],
   "source": [
    "#installing all the librabies used in the project\n",
    "# !pip install numpy\n",
    "# !pip install pandas\n",
    "# !pip uninstall keras --y\n",
    "# !pip install matplotlib\n",
    "# !pip uninstall tensorflow --y\n",
    "!pip install tensorflow==2.4.0 \n",
    "!pip install keras==2.4.0"
   ]
  },
  {
   "cell_type": "code",
   "execution_count": 6,
   "id": "3d90b0ab",
   "metadata": {},
   "outputs": [
    {
     "name": "stderr",
     "output_type": "stream",
     "text": [
      "Using TensorFlow backend.\n"
     ]
    }
   ],
   "source": [
    "#importing all the libraries used in project\n",
    "import numpy as np\n",
    "import pandas as pd\n",
    "from keras.preprocessing.image import ImageDataGenerator,load_img\n",
    "from tensorflow.keras.utils import to_categorical\n",
    "from keras.utils import to_categorical\n",
    "from sklearn.model_selection import train_test_split\n",
    "import matplotlib.pyplot as plt\n",
    "import random\n",
    "import os"
   ]
  },
  {
   "cell_type": "code",
   "execution_count": 7,
   "id": "7641f25c",
   "metadata": {},
   "outputs": [],
   "source": [
    "#Defining the image lengths \n",
    "Image_Width=128\n",
    "Image_Height=128\n",
    "Image_Size=(Image_Width,Image_Height)\n",
    "Image_Channels=3"
   ]
  },
  {
   "cell_type": "code",
   "execution_count": 8,
   "id": "a43afd38",
   "metadata": {},
   "outputs": [],
   "source": [
    "filenames=os.listdir(\"C:\\\\Users\\\\rahul\\\\Desktop\\\\IFT360_FINALPROJECT\\\\plantspic\\\\test\\\\images\")\n",
    "categories=[]\n",
    "for f_name in filenames:\n",
    "    category=f_name.split('.')[0]\n",
    "    if category=='daffodils':\n",
    "        categories.append(1)\n",
    "    else:\n",
    "        categories.append(0)\n",
    "\n",
    "df=pd.DataFrame({\n",
    "    'filename':filenames,\n",
    "    'category':categories\n",
    "})"
   ]
  },
  {
   "cell_type": "code",
   "execution_count": 20,
   "id": "42008945",
   "metadata": {},
   "outputs": [],
   "source": [
    "#neural net model form Keras\n",
    "from keras.models import Sequential\n",
    "from keras.layers import Conv2D,MaxPooling2D,\\\n",
    "     Dropout,Flatten,Dense,Activation,\\\n",
    "     BatchNormalization\n",
    "\n",
    "model=Sequential()\n",
    "\n",
    "model.add(Conv2D(32,(3,3),activation='relu',input_shape=(Image_Width,Image_Height,Image_Channels)))\n",
    "model.add(BatchNormalization())\n",
    "model.add(MaxPooling2D(pool_size=(2,2)))\n",
    "model.add(Dropout(0.25))\n",
    "\n",
    "model.add(Conv2D(64,(3,3),activation='relu'))\n",
    "model.add(BatchNormalization())\n",
    "model.add(MaxPooling2D(pool_size=(2,2)))\n",
    "model.add(Dropout(0.25))\n",
    "\n",
    "model.add(Conv2D(128,(3,3),activation='relu'))\n",
    "model.add(BatchNormalization())\n",
    "model.add(MaxPooling2D(pool_size=(2,2)))\n",
    "model.add(Dropout(0.25))\n",
    "\n",
    "model.add(Flatten())\n",
    "model.add(Dense(512,activation='relu'))\n",
    "model.add(BatchNormalization())\n",
    "model.add(Dropout(0.5))\n",
    "model.add(Dense(2,activation='softmax'))\n",
    "\n",
    "model.compile(loss='categorical_crossentropy',\n",
    "  optimizer='rmsprop',metrics=['accuracy'])"
   ]
  },
  {
   "cell_type": "code",
   "execution_count": 10,
   "id": "ece56379",
   "metadata": {},
   "outputs": [
    {
     "name": "stdout",
     "output_type": "stream",
     "text": [
      "Model: \"sequential\"\n",
      "_________________________________________________________________\n",
      "Layer (type)                 Output Shape              Param #   \n",
      "=================================================================\n",
      "conv2d (Conv2D)              (None, 126, 126, 32)      896       \n",
      "_________________________________________________________________\n",
      "batch_normalization (BatchNo (None, 126, 126, 32)      128       \n",
      "_________________________________________________________________\n",
      "max_pooling2d (MaxPooling2D) (None, 63, 63, 32)        0         \n",
      "_________________________________________________________________\n",
      "dropout (Dropout)            (None, 63, 63, 32)        0         \n",
      "_________________________________________________________________\n",
      "conv2d_1 (Conv2D)            (None, 61, 61, 64)        18496     \n",
      "_________________________________________________________________\n",
      "batch_normalization_1 (Batch (None, 61, 61, 64)        256       \n",
      "_________________________________________________________________\n",
      "max_pooling2d_1 (MaxPooling2 (None, 30, 30, 64)        0         \n",
      "_________________________________________________________________\n",
      "dropout_1 (Dropout)          (None, 30, 30, 64)        0         \n",
      "_________________________________________________________________\n",
      "conv2d_2 (Conv2D)            (None, 28, 28, 128)       73856     \n",
      "_________________________________________________________________\n",
      "batch_normalization_2 (Batch (None, 28, 28, 128)       512       \n",
      "_________________________________________________________________\n",
      "max_pooling2d_2 (MaxPooling2 (None, 14, 14, 128)       0         \n",
      "_________________________________________________________________\n",
      "dropout_2 (Dropout)          (None, 14, 14, 128)       0         \n",
      "_________________________________________________________________\n",
      "flatten (Flatten)            (None, 25088)             0         \n",
      "_________________________________________________________________\n",
      "dense (Dense)                (None, 512)               12845568  \n",
      "_________________________________________________________________\n",
      "batch_normalization_3 (Batch (None, 512)               2048      \n",
      "_________________________________________________________________\n",
      "dropout_3 (Dropout)          (None, 512)               0         \n",
      "_________________________________________________________________\n",
      "dense_1 (Dense)              (None, 2)                 1026      \n",
      "=================================================================\n",
      "Total params: 12,942,786\n",
      "Trainable params: 12,941,314\n",
      "Non-trainable params: 1,472\n",
      "_________________________________________________________________\n"
     ]
    }
   ],
   "source": [
    "#Summary of the model\n",
    "model.summary()"
   ]
  },
  {
   "cell_type": "code",
   "execution_count": 11,
   "id": "2d383dd0",
   "metadata": {},
   "outputs": [],
   "source": [
    "from keras.callbacks import EarlyStopping, ReduceLROnPlateau\n",
    "earlystop = EarlyStopping(patience = 10)\n",
    "learning_rate_reduction = ReduceLROnPlateau(monitor = 'val_acc',patience = 2,verbose = 1,factor = 0.5,min_lr = 0.00001)\n",
    "callbacks = [earlystop,learning_rate_reduction]"
   ]
  },
  {
   "cell_type": "code",
   "execution_count": 12,
   "id": "81426861",
   "metadata": {},
   "outputs": [],
   "source": [
    "#manageing the data\n",
    "df[\"category\"] = df[\"category\"].replace({0:'aconitum',1:'daffodils'})\n",
    "train_df,validate_df = train_test_split(df,test_size=0.20,\n",
    "  random_state=42)\n",
    "\n",
    "train_df = train_df.reset_index(drop=True)\n",
    "validate_df = validate_df.reset_index(drop=True)\n",
    "\n",
    "total_train=train_df.shape[0]\n",
    "total_validate=validate_df.shape[0]\n",
    "batch_size=15"
   ]
  },
  {
   "cell_type": "code",
   "execution_count": 13,
   "id": "cd749cd4",
   "metadata": {},
   "outputs": [
    {
     "name": "stdout",
     "output_type": "stream",
     "text": [
      "Found 817 non-validated image filenames belonging to 2 classes.\n",
      "Found 205 non-validated image filenames belonging to 2 classes.\n",
      "Found 817 non-validated image filenames belonging to 2 classes.\n"
     ]
    }
   ],
   "source": [
    "train_datagen = ImageDataGenerator(rotation_range=15,\n",
    "                                rescale=1./255,\n",
    "                                shear_range=0.1,\n",
    "                                zoom_range=0.2,\n",
    "                                horizontal_flip=True,\n",
    "                                width_shift_range=0.1,\n",
    "                                height_shift_range=0.1\n",
    "                                )\n",
    "\n",
    "train_generator = train_datagen.flow_from_dataframe(train_df,\n",
    "                                                 \"C:\\\\Users\\\\rahul\\\\Desktop\\\\IFT360_FINALPROJECT\\\\plantspic\\\\test\\\\images\",x_col='filename',y_col='category',\n",
    "                                                 target_size=Image_Size,\n",
    "                                                 class_mode='categorical',\n",
    "                                                 batch_size=batch_size, validate_filenames=False)\n",
    "\n",
    "validation_datagen = ImageDataGenerator(rescale=1./255)\n",
    "validation_generator = validation_datagen.flow_from_dataframe(\n",
    "    validate_df, \n",
    "    \"C:\\\\Users\\\\rahul\\\\Desktop\\\\IFT360_FINALPROJECT\\\\plantspic\\\\test\\\\images\", \n",
    "    x_col='filename',\n",
    "    y_col='category',\n",
    "    target_size=Image_Size,\n",
    "    class_mode='categorical',\n",
    "    batch_size=batch_size,validate_filenames=False\n",
    ")\n",
    "\n",
    "test_datagen = ImageDataGenerator(rotation_range=15,\n",
    "                                rescale=1./255,\n",
    "                                shear_range=0.1,\n",
    "                                zoom_range=0.2,\n",
    "                                horizontal_flip=True,\n",
    "                                width_shift_range=0.1,\n",
    "                                height_shift_range=0.1)\n",
    "\n",
    "test_generator = train_datagen.flow_from_dataframe(train_df,\n",
    "                                                 \"C:\\\\Users\\\\rahul\\\\Desktop\\\\IFT360_FINALPROJECT\\\\plantspic\\\\test\\\\images\",x_col='filename',y_col='category',\n",
    "                                                 target_size=Image_Size,\n",
    "                                                 class_mode='categorical',\n",
    "                                                 batch_size=batch_size, validate_filenames=False)"
   ]
  },
  {
   "cell_type": "code",
   "execution_count": 21,
   "id": "46cb32a1",
   "metadata": {
    "scrolled": true
   },
   "outputs": [
    {
     "name": "stdout",
     "output_type": "stream",
     "text": [
      "Epoch 1/20\n",
      "54/54 [==============================] - 28s 505ms/step - loss: 1.0554 - accuracy: 0.6968 - val_loss: 4.8169 - val_accuracy: 0.4718\n",
      "Epoch 2/20\n"
     ]
    },
    {
     "name": "stderr",
     "output_type": "stream",
     "text": [
      "C:\\Users\\rahul\\anaconda3\\lib\\site-packages\\keras\\callbacks\\callbacks.py:1039: RuntimeWarning: Reduce LR on plateau conditioned on metric `val_acc` which is not available. Available metrics are: loss,accuracy,val_loss,val_accuracy,lr\n",
      "  warnings.warn(\n"
     ]
    },
    {
     "name": "stdout",
     "output_type": "stream",
     "text": [
      "54/54 [==============================] - 27s 507ms/step - loss: 0.5331 - accuracy: 0.8152 - val_loss: 1.8853 - val_accuracy: 0.4769\n",
      "Epoch 3/20\n",
      "54/54 [==============================] - 28s 509ms/step - loss: 0.4873 - accuracy: 0.8336 - val_loss: 0.6472 - val_accuracy: 0.7744\n",
      "Epoch 4/20\n",
      "54/54 [==============================] - 27s 508ms/step - loss: 0.5028 - accuracy: 0.8297 - val_loss: 1.8365 - val_accuracy: 0.5487\n",
      "Epoch 5/20\n",
      "54/54 [==============================] - 27s 499ms/step - loss: 0.3916 - accuracy: 0.8676 - val_loss: 1.3366 - val_accuracy: 0.6718\n",
      "Epoch 6/20\n",
      "54/54 [==============================] - 27s 499ms/step - loss: 0.3910 - accuracy: 0.8414 - val_loss: 1.2999 - val_accuracy: 0.6154\n",
      "Epoch 7/20\n",
      "54/54 [==============================] - 26s 489ms/step - loss: 0.3404 - accuracy: 0.8743 - val_loss: 1.2587 - val_accuracy: 0.6615\n",
      "Epoch 8/20\n",
      "54/54 [==============================] - 27s 496ms/step - loss: 0.3675 - accuracy: 0.8652 - val_loss: 1.0735 - val_accuracy: 0.6923\n",
      "Epoch 9/20\n",
      "54/54 [==============================] - 27s 493ms/step - loss: 0.2913 - accuracy: 0.8791 - val_loss: 0.6823 - val_accuracy: 0.8103\n",
      "Epoch 10/20\n",
      "54/54 [==============================] - 27s 496ms/step - loss: 0.2466 - accuracy: 0.8947 - val_loss: 1.0528 - val_accuracy: 0.7436\n",
      "Epoch 11/20\n",
      "54/54 [==============================] - 27s 495ms/step - loss: 0.2896 - accuracy: 0.8877 - val_loss: 0.2747 - val_accuracy: 0.9077\n",
      "Epoch 12/20\n",
      "54/54 [==============================] - 27s 495ms/step - loss: 0.3261 - accuracy: 0.8728 - val_loss: 0.2550 - val_accuracy: 0.8974\n",
      "Epoch 13/20\n",
      "54/54 [==============================] - 27s 497ms/step - loss: 0.3814 - accuracy: 0.8533 - val_loss: 0.3172 - val_accuracy: 0.8923\n",
      "Epoch 14/20\n",
      "54/54 [==============================] - 27s 493ms/step - loss: 0.2382 - accuracy: 0.9138 - val_loss: 0.4156 - val_accuracy: 0.8051\n",
      "Epoch 15/20\n",
      "54/54 [==============================] - 27s 498ms/step - loss: 0.2401 - accuracy: 0.9164 - val_loss: 0.1829 - val_accuracy: 0.9385\n",
      "Epoch 16/20\n",
      "54/54 [==============================] - 27s 492ms/step - loss: 0.1922 - accuracy: 0.9322 - val_loss: 1.6185 - val_accuracy: 0.6256\n",
      "Epoch 17/20\n",
      "54/54 [==============================] - 27s 497ms/step - loss: 0.2095 - accuracy: 0.9175 - val_loss: 0.4324 - val_accuracy: 0.8359\n",
      "Epoch 18/20\n",
      "54/54 [==============================] - 27s 492ms/step - loss: 0.1637 - accuracy: 0.9445 - val_loss: 0.1510 - val_accuracy: 0.9385\n",
      "Epoch 19/20\n",
      "54/54 [==============================] - 27s 500ms/step - loss: 0.1550 - accuracy: 0.9328 - val_loss: 0.5262 - val_accuracy: 0.8308\n",
      "Epoch 20/20\n",
      "54/54 [==============================] - 27s 496ms/step - loss: 0.2345 - accuracy: 0.9245 - val_loss: 0.8161 - val_accuracy: 0.7641\n"
     ]
    }
   ],
   "source": [
    "# epochs=20\n",
    "# history = model.fit(\n",
    "#     train_generator, \n",
    "#     epochs=epochs,\n",
    "#     validat\n",
    "    \n",
    "#     ion_data=validation_generator,\n",
    "#     validation_steps=total_validate//batch_size,\n",
    "#     steps_per_epoch=total_train//batch_size,\n",
    "#     callbacks=callbacks,\n",
    "# )"
   ]
  },
  {
   "cell_type": "code",
   "execution_count": 22,
   "id": "60a35a68",
   "metadata": {},
   "outputs": [],
   "source": [
    "# model.save(\"plantmodel2folder.h5\")"
   ]
  },
  {
   "cell_type": "code",
   "execution_count": 16,
   "id": "545d1300",
   "metadata": {},
   "outputs": [],
   "source": [
    "test_filenames = os.listdir(\"C:\\\\Users\\\\rahul\\\\Desktop\\\\IFT360_FINALPROJECT\\\\plantspic\\\\test\\\\images\")\n",
    "test_df = pd.Series({\n",
    "    'filename': test_filenames\n",
    "})\n",
    "nb_samples = test_df.shape[0]"
   ]
  },
  {
   "cell_type": "code",
   "execution_count": 24,
   "id": "2ef28205",
   "metadata": {},
   "outputs": [
    {
     "name": "stdout",
     "output_type": "stream",
     "text": [
      "prediction shape: (15, 2)\n",
      "[0 0 1 0 0 0 0 0 0 0 0 1 0 1 1]\n",
      "55/55 [==============================] - 16s 301ms/step - loss: 0.5392 - accuracy: 0.8164\n",
      "test loss, test acc: [0.539249837398529, 0.816401481628418]\n"
     ]
    }
   ],
   "source": [
    "# predict = model.predict(test_generator, steps=np.ceil(nb_samples/batch_size))\n",
    "# print(\"prediction shape:\", predict.shape)\n",
    "# classes = np.argmax(predict, axis = 1)\n",
    "# print(classes)\n",
    "# results = model.evaluate(test_generator, batch_size=128)\n",
    "# print(\"test loss, test acc:\", results)"
   ]
  },
  {
   "cell_type": "code",
   "execution_count": 25,
   "id": "867e8fee",
   "metadata": {},
   "outputs": [
    {
     "name": "stdout",
     "output_type": "stream",
     "text": [
      "0 acortum\n"
     ]
    }
   ],
   "source": [
    "results={\n",
    "    0:'acortum',\n",
    "    1:'daffodil'\n",
    "}\n",
    "from PIL import Image\n",
    "import numpy as np\n",
    "im=Image.open(\"C:\\\\Users\\\\rahul\\\\Desktop\\\\gf.jpg\")\n",
    "im=im.resize(Image_Size)\n",
    "im=np.expand_dims(im,axis=0)\n",
    "im=np.array(im)\n",
    "im=im/255\n",
    "pred=model.predict_classes([im])[0]\n",
    "print(pred,results[pred])"
   ]
  },
  {
   "cell_type": "code",
   "execution_count": 19,
   "id": "826abf63",
   "metadata": {
    "scrolled": true
   },
   "outputs": [],
   "source": [
    "#Code for checking currupted images\n",
    "import PIL\n",
    "from pathlib import Path\n",
    "from PIL import UnidentifiedImageError\n",
    "\n",
    "path = Path(r\"C:\\\\Users\\\\rahul\\\\Desktop\\\\IFT360_FINALPROJECT\\\\plantspic\\\\test\\\\images\").rglob(\"*.png\")\n",
    "for img_p in path:\n",
    "    try:\n",
    "        img = PIL.Image.open(img_p)\n",
    "    except PIL.UnidentifiedImageError:\n",
    "            print(img_p)"
   ]
  }
 ],
 "metadata": {
  "kernelspec": {
   "display_name": "Python 3",
   "language": "python",
   "name": "python3"
  },
  "language_info": {
   "codemirror_mode": {
    "name": "ipython",
    "version": 3
   },
   "file_extension": ".py",
   "mimetype": "text/x-python",
   "name": "python",
   "nbconvert_exporter": "python",
   "pygments_lexer": "ipython3",
   "version": "3.8.8"
  }
 },
 "nbformat": 4,
 "nbformat_minor": 5
}
